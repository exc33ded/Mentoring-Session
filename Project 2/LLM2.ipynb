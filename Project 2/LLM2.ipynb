{
 "cells": [
  {
   "cell_type": "markdown",
   "id": "9bfda3da-de16-4f4e-8f13-38ca2cdddf65",
   "metadata": {},
   "source": [
    "## NO Charges\n",
    "## Privacy"
   ]
  },
  {
   "cell_type": "code",
   "execution_count": null,
   "id": "96fe4b7c-eabb-40ba-8e67-8a98e351e32d",
   "metadata": {},
   "outputs": [],
   "source": [
    "## http://localhost:11434/  <-- check"
   ]
  },
  {
   "cell_type": "code",
   "execution_count": 2,
   "id": "248221b0-132a-4997-aaa6-25244befd504",
   "metadata": {},
   "outputs": [],
   "source": [
    "import requests\n",
    "from bs4 import BeautifulSoup\n",
    "from IPython.display import Markdown, display"
   ]
  },
  {
   "cell_type": "code",
   "execution_count": 17,
   "id": "9c5052c2-82e6-4ef6-ab54-fa5462a265d1",
   "metadata": {},
   "outputs": [],
   "source": [
    "OLLAMA_API = \"http://localhost:11434/api/chat\"\n",
    "HEADERS = {\"Content-Type\": \"application/json\"}\n",
    "MODEL = \"llama3.2:latest\""
   ]
  },
  {
   "cell_type": "code",
   "execution_count": 18,
   "id": "02241366-24f6-42bf-b934-824b8ced1987",
   "metadata": {},
   "outputs": [],
   "source": [
    "messages = [\n",
    "    {\"role\": \"user\", \"content\": \"How to write a research paper?\"}\n",
    "]"
   ]
  },
  {
   "cell_type": "code",
   "execution_count": 19,
   "id": "579a3842-6dd2-408d-bd43-357a7b4c9ff4",
   "metadata": {},
   "outputs": [],
   "source": [
    "payload = {\n",
    "    \"model\": MODEL,\n",
    "    \"messages\": messages,\n",
    "    \"stream\": False\n",
    "}"
   ]
  },
  {
   "cell_type": "code",
   "execution_count": 20,
   "id": "90bbb755-ef5a-44bb-883f-3e562ac2b331",
   "metadata": {},
   "outputs": [
    {
     "name": "stderr",
     "output_type": "stream",
     "text": [
      "\u001b[?2026h\u001b[?25l\u001b[1Gpulling manifest â ‹ \u001b[K\u001b[?25h\u001b[?2026l\u001b[?2026h\u001b[?25l\u001b[1Gpulling manifest â ™ \u001b[K\u001b[?25h\u001b[?2026l\u001b[?2026h\u001b[?25l\u001b[1Gpulling manifest â ¹ \u001b[K\u001b[?25h\u001b[?2026l\u001b[?2026h\u001b[?25l\u001b[1Gpulling manifest â ¸ \u001b[K\u001b[?25h\u001b[?2026l\u001b[?2026h\u001b[?25l\u001b[1Gpulling manifest â ¼ \u001b[K\u001b[?25h\u001b[?2026l\u001b[?2026h\u001b[?25l\u001b[1Gpulling manifest â ´ \u001b[K\u001b[?25h\u001b[?2026l\u001b[?2026h\u001b[?25l\u001b[1Gpulling manifest â ¦ \u001b[K\u001b[?25h\u001b[?2026l\u001b[?2026h\u001b[?25l\u001b[1Gpulling manifest â § \u001b[K\u001b[?25h\u001b[?2026l\u001b[?2026h\u001b[?25l\u001b[1Gpulling manifest â ‡ \u001b[K\u001b[?25h\u001b[?2026l\u001b[?2026h\u001b[?25l\u001b[1Gpulling manifest \u001b[K\n",
      "pulling dde5aa3fc5ff... 100% â–•â–ˆâ–ˆâ–ˆâ–ˆâ–ˆâ–ˆâ–ˆâ–ˆâ–ˆâ–ˆâ–ˆâ–ˆâ–ˆâ–ˆâ–ˆâ–ˆâ–� 2.0 GB                         \u001b[K\n",
      "pulling 966de95ca8a6... 100% â–•â–ˆâ–ˆâ–ˆâ–ˆâ–ˆâ–ˆâ–ˆâ–ˆâ–ˆâ–ˆâ–ˆâ–ˆâ–ˆâ–ˆâ–ˆâ–ˆâ–� 1.4 KB                         \u001b[K\n",
      "pulling fcc5a6bec9da... 100% â–•â–ˆâ–ˆâ–ˆâ–ˆâ–ˆâ–ˆâ–ˆâ–ˆâ–ˆâ–ˆâ–ˆâ–ˆâ–ˆâ–ˆâ–ˆâ–ˆâ–� 7.7 KB                         \u001b[K\n",
      "pulling a70ff7e570d9... 100% â–•â–ˆâ–ˆâ–ˆâ–ˆâ–ˆâ–ˆâ–ˆâ–ˆâ–ˆâ–ˆâ–ˆâ–ˆâ–ˆâ–ˆâ–ˆâ–ˆâ–� 6.0 KB                         \u001b[K\n",
      "pulling 56bb8bd477a5... 100% â–•â–ˆâ–ˆâ–ˆâ–ˆâ–ˆâ–ˆâ–ˆâ–ˆâ–ˆâ–ˆâ–ˆâ–ˆâ–ˆâ–ˆâ–ˆâ–ˆâ–�   96 B                         \u001b[K\n",
      "pulling 34bb5ab01051... 100% â–•â–ˆâ–ˆâ–ˆâ–ˆâ–ˆâ–ˆâ–ˆâ–ˆâ–ˆâ–ˆâ–ˆâ–ˆâ–ˆâ–ˆâ–ˆâ–ˆâ–�  561 B                         \u001b[K\n",
      "verifying sha256 digest \u001b[K\n",
      "writing manifest \u001b[K\n",
      "success \u001b[K\u001b[?25h\u001b[?2026l\n"
     ]
    }
   ],
   "source": [
    "!ollama pull llama3.2:latest  "
   ]
  },
  {
   "cell_type": "markdown",
   "id": "aafdb877-770b-4b36-8ef6-344f6085c7c4",
   "metadata": {},
   "source": [
    "# 2 ways to work with OLLAMA"
   ]
  },
  {
   "cell_type": "code",
   "execution_count": 21,
   "id": "cab3648f-2ded-4429-b998-aa42092e68c5",
   "metadata": {},
   "outputs": [
    {
     "name": "stdout",
     "output_type": "stream",
     "text": [
      "Writing a research paper requires a structured approach, thorough research, and effective writing skills. Here's a step-by-step guide to help you write a well-structured and well-researched research paper:\n",
      "\n",
      "I. Research and Planning (Before Writing)\n",
      "\n",
      "1. Choose a topic: Select a specific and relevant topic for your research paper.\n",
      "2. Conduct preliminary research: Gather information from various sources, including academic journals, books, and online resources.\n",
      "3. Develop a thesis statement: Formulate a clear and concise thesis statement that summarizes the main argument or claim of your paper.\n",
      "4. Create an outline: Organize your ideas and structure your paper with an outline, including introduction, body paragraphs, and conclusion.\n",
      "\n",
      "II. Writing the Introduction\n",
      "\n",
      "1. Hook: Start with an interesting fact, quote, or anecdote to grab the reader's attention.\n",
      "2. Background information: Provide context and background information on the topic.\n",
      "3. Thesis statement: Clearly state the thesis statement and its significance.\n",
      "4. Preview of the paper: Give a brief overview of the main arguments and findings.\n",
      "\n",
      "III. Writing Body Paragraphs\n",
      "\n",
      "1. Topic sentence: Begin each paragraph with a clear and concise topic sentence that summarizes the main argument or claim.\n",
      "2. Evidence and analysis: Provide supporting evidence from credible sources, such as academic journals, books, and primary sources.\n",
      "3. Analysis and interpretation: Analyze and interpret the evidence to support your thesis statement.\n",
      "4. Linking sentences: Use transitional phrases to connect ideas between paragraphs.\n",
      "\n",
      "IV. Writing the Conclusion\n",
      "\n",
      "1. Restate the thesis: Summarize the main argument or claim of your paper.\n",
      "2. Summarize the findings: Provide an overview of the main findings and their significance.\n",
      "3. Implications: Discuss the implications of your research and its relevance to the topic.\n",
      "4. Final thoughts: Offer final thoughts and suggestions for future research.\n",
      "\n",
      "V. Writing Style and Format\n",
      "\n",
      "1. Use clear and concise language: Avoid using jargon or overly technical terms.\n",
      "2. Use proper citation style: Follow a consistent citation style, such as APA, MLA, or Chicago.\n",
      "3. Use headings and subheadings: Organize your paper with headings and subheadings to improve clarity.\n",
      "4. Edit and proofread: Review your paper for errors in grammar, punctuation, spelling, and formatting.\n",
      "\n",
      "VI. Finalizing the Paper\n",
      "\n",
      "1. Format according to guidelines: Ensure that your paper meets the formatting requirements of your instructor or publication.\n",
      "2. Proofread and edit: Check your paper for errors and inconsistencies.\n",
      "3. Get feedback: Share your paper with peers or instructors for feedback and revision.\n",
      "4. Revise and resubmit: Make revisions based on feedback and submit a final version.\n",
      "\n",
      "Additional Tips:\n",
      "\n",
      "* Use credible sources to support your research.\n",
      "* Use transition words and phrases to connect ideas between paragraphs.\n",
      "* Avoid plagiarism by properly citing sources.\n",
      "* Use clear and concise headings and subheadings to improve organization.\n",
      "* Edit and proofread carefully to ensure error-free writing.\n"
     ]
    }
   ],
   "source": [
    "import ollama\n",
    "\n",
    "response = ollama.chat(model=MODEL, messages=messages)\n",
    "print(response['message']['content'])"
   ]
  },
  {
   "cell_type": "code",
   "execution_count": null,
   "id": "8dbde26b-3a62-4642-b80b-df42cb6da560",
   "metadata": {},
   "outputs": [],
   "source": []
  },
  {
   "cell_type": "code",
   "execution_count": 24,
   "id": "c61322df-31f5-4e3a-a64e-c3893e1b833d",
   "metadata": {},
   "outputs": [
    {
     "name": "stdout",
     "output_type": "stream",
     "text": [
      "Writing a research paper requires careful planning, organization, and execution. Here's a step-by-step guide to help you get started:\n",
      "\n",
      "**I. Preparing for the Research Paper**\n",
      "\n",
      "1. **Choose a topic**: Select a specific topic that interests you and is relevant to your field of study.\n",
      "2. **Conduct preliminary research**: Read books, articles, and online resources related to your topic to gain a basic understanding.\n",
      "3. **Develop a research question**: Based on your preliminary research, formulate a clear and concise research question or hypothesis.\n",
      "4. **Formulate a thesis statement**: Write a single sentence that summarizes the main argument of your paper.\n",
      "\n",
      "**II. Research and Organization**\n",
      "\n",
      "1. **Conduct in-depth research**: Conduct thorough research using various sources such as academic journals, books, and online databases.\n",
      "2. **Organize your findings**: Take notes, make a list of key points, and create an outline to organize your thoughts.\n",
      "3. **Identify the literature gap**: Determine if there's existing research on your topic and what gaps need to be filled.\n",
      "\n",
      "**III. Writing the Research Paper**\n",
      "\n",
      "1. **Create an introduction**: Introduce the topic, provide background information, and state the research question or thesis statement.\n",
      "2. **Write body sections**: Use your research notes to write detailed, well-organized body paragraphs (typically 3-5) that discuss each section of your argument.\n",
      "3. **Include analysis and interpretation**: Support your arguments with evidence from sources studied during initial research phase.\n",
      "\n",
      "**IV. Writing Style and Guidance**\n",
      "\n",
      "1. **Academic writing style**: Use an academic tone, format, and reference style that matches the requirements of the assignment (common styles are APA, MLA, or Chicago).\n",
      "2. **Citations**: Use proper citation practices to provide evidence from sources used during research.\n",
      "3. **Proofreading and editing**: Carefully review your work for errors in grammar, punctuation, and clarity.\n",
      "\n",
      "**Additional Tips**\n",
      "\n",
      "* Collaborate with peers if desired\n",
      "* Seek guidance from instructors and advisors\n",
      "* Review the rubric thoroughly before submission\n",
      "* Plan ahead by setting a timeline for completion\n",
      "\n",
      "This outline might help guide you through writing an effective research paper.\n"
     ]
    }
   ],
   "source": [
    "from openai import OpenAI\n",
    "\n",
    "ollama_output = OpenAI(base_url=\"http://localhost:11434/v1\", api_key=\"ollama\")\n",
    "\n",
    "response = ollama_output.chat.completions.create(\n",
    "    model=MODEL,\n",
    "    messages=messages\n",
    ")\n",
    "print(response.choices[0].message.content)"
   ]
  },
  {
   "cell_type": "markdown",
   "id": "c5847a66-982a-4375-9cc7-f00e9595a3d3",
   "metadata": {},
   "source": [
    "## 2 Assignments\n",
    "1. ML Model\n",
    "2. LLM "
   ]
  },
  {
   "cell_type": "code",
   "execution_count": null,
   "id": "81f7430b-6dfb-4469-9b23-8903b6313272",
   "metadata": {},
   "outputs": [],
   "source": []
  }
 ],
 "metadata": {
  "kernelspec": {
   "display_name": "Python 3 (ipykernel)",
   "language": "python",
   "name": "python3"
  },
  "language_info": {
   "codemirror_mode": {
    "name": "ipython",
    "version": 3
   },
   "file_extension": ".py",
   "mimetype": "text/x-python",
   "name": "python",
   "nbconvert_exporter": "python",
   "pygments_lexer": "ipython3",
   "version": "3.12.4"
  }
 },
 "nbformat": 4,
 "nbformat_minor": 5
}
