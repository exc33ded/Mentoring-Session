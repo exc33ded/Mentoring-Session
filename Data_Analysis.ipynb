{
  "nbformat": 4,
  "nbformat_minor": 0,
  "metadata": {
    "colab": {
      "provenance": []
    },
    "kernelspec": {
      "name": "python3",
      "display_name": "Python 3"
    },
    "language_info": {
      "name": "python"
    }
  },
  "cells": [
    {
      "cell_type": "code",
      "execution_count": null,
      "metadata": {
        "colab": {
          "base_uri": "https://localhost:8080/"
        },
        "id": "IlcF3uBxx2sW",
        "outputId": "cd7f8df5-c69c-47f2-d26b-ec711e655b3f"
      },
      "outputs": [
        {
          "output_type": "stream",
          "name": "stdout",
          "text": [
            "Dataset created successfully!\n"
          ]
        }
      ],
      "source": [
        "import pandas as pd\n",
        "import numpy as np\n",
        "\n",
        "np.random.seed(42)\n",
        "\n",
        "data = {\n",
        "    'ID': np.arange(1, 101),\n",
        "    'Name': [f'Name_{i}' for i in range(1, 101)],\n",
        "    'Age': np.random.randint(18, 60, 100),\n",
        "    'Salary': np.random.randint(30000, 120000, 100),\n",
        "    'Department': np.random.choice(['HR', 'Engineering', 'Marketing', 'Sales'], 100),\n",
        "    'Joining_Date': pd.date_range(start='2015-01-01', periods=100).to_pydatetime(),\n",
        "    'Performance_Score': np.random.uniform(1, 5, 100).round(2),\n",
        "    'On_Probation': np.random.choice([True, False], 100),\n",
        "}\n",
        "\n",
        "df = pd.DataFrame(data)\n",
        "\n",
        "df.to_csv('synthetic_dataset.csv', index=False)\n",
        "\n",
        "print(\"Dataset created successfully!\")"
      ]
    },
    {
      "cell_type": "markdown",
      "source": [
        "## Task 1: Load the Dataset and View Basic Information"
      ],
      "metadata": {
        "id": "9BzezyQ8yN6h"
      }
    },
    {
      "cell_type": "code",
      "source": [],
      "metadata": {
        "id": "ZLjWoelcyA2O"
      },
      "execution_count": null,
      "outputs": []
    },
    {
      "cell_type": "markdown",
      "source": [
        "## Task 2: Check for Missing Values"
      ],
      "metadata": {
        "id": "YPMutDhhyUMJ"
      }
    },
    {
      "cell_type": "code",
      "source": [],
      "metadata": {
        "id": "V8s8nPCzyd9Y"
      },
      "execution_count": null,
      "outputs": []
    },
    {
      "cell_type": "markdown",
      "source": [
        "## Task 3: Summary Statistics of Numerical Columns"
      ],
      "metadata": {
        "id": "ODIorbjVygGS"
      }
    },
    {
      "cell_type": "code",
      "source": [],
      "metadata": {
        "id": "002hfGw_yj1J"
      },
      "execution_count": null,
      "outputs": []
    },
    {
      "cell_type": "markdown",
      "source": [
        "## Task 4: Find the Unique Values in a Column"
      ],
      "metadata": {
        "id": "jdE1NU3qykOL"
      }
    },
    {
      "cell_type": "code",
      "source": [],
      "metadata": {
        "id": "5IAN-qP9ynBx"
      },
      "execution_count": null,
      "outputs": []
    },
    {
      "cell_type": "markdown",
      "source": [
        "## Task 5: Filter Rows Based on a Condition"
      ],
      "metadata": {
        "id": "eD8xQGifyndl"
      }
    },
    {
      "cell_type": "code",
      "source": [
        "# Filter employees with Salary greater than 90,000\n"
      ],
      "metadata": {
        "id": "-9uVs44zypm5"
      },
      "execution_count": null,
      "outputs": []
    },
    {
      "cell_type": "markdown",
      "source": [
        "## Task 6: Add a New Column for Experience"
      ],
      "metadata": {
        "id": "vcobIEffzGPI"
      }
    },
    {
      "cell_type": "code",
      "source": [],
      "metadata": {
        "id": "ViWCAc35zJAs"
      },
      "execution_count": null,
      "outputs": []
    },
    {
      "cell_type": "markdown",
      "source": [
        "## Task 7: Group Data by Department"
      ],
      "metadata": {
        "id": "hX3B_okezJtf"
      }
    },
    {
      "cell_type": "code",
      "source": [],
      "metadata": {
        "id": "fCLt3g1WzL9N"
      },
      "execution_count": null,
      "outputs": []
    },
    {
      "cell_type": "markdown",
      "source": [
        "## Task 8: Sort Data by Performance Score"
      ],
      "metadata": {
        "id": "rJqJ6xirzNyP"
      }
    },
    {
      "cell_type": "code",
      "source": [
        "# Sort employees by Performance Score in descending order\n"
      ],
      "metadata": {
        "id": "m5sgCq9ezNHX"
      },
      "execution_count": null,
      "outputs": []
    },
    {
      "cell_type": "markdown",
      "source": [
        "## Task 9: Rename Columns for Better Clarity\n"
      ],
      "metadata": {
        "id": "6DSqAliEzoBR"
      }
    },
    {
      "cell_type": "code",
      "source": [
        "# Rename the column `On_Probation` to `Is_On_Probation`\n"
      ],
      "metadata": {
        "id": "JmniUAgGz9qV"
      },
      "execution_count": null,
      "outputs": []
    },
    {
      "cell_type": "markdown",
      "source": [
        "## Task 10: Count the Number of Employees in Each Department"
      ],
      "metadata": {
        "id": "L-XuPUldzob6"
      }
    },
    {
      "cell_type": "code",
      "source": [],
      "metadata": {
        "id": "IMwdNmw-0Qpu"
      },
      "execution_count": null,
      "outputs": []
    },
    {
      "cell_type": "markdown",
      "source": [
        "## Task 11: Calculate the Mean and Median Age"
      ],
      "metadata": {
        "id": "9sYTpjUrzoed"
      }
    },
    {
      "cell_type": "code",
      "source": [],
      "metadata": {
        "id": "mbuIpB_50Tss"
      },
      "execution_count": null,
      "outputs": []
    },
    {
      "cell_type": "markdown",
      "source": [
        "## Task 12: Find Employees with Specific Criteria"
      ],
      "metadata": {
        "id": "j6Ak-d0SzohD"
      }
    },
    {
      "cell_type": "code",
      "source": [],
      "metadata": {
        "id": "UO4-KMF60Vut"
      },
      "execution_count": null,
      "outputs": []
    },
    {
      "cell_type": "markdown",
      "source": [
        "## Task 13: Drop Unnecessary Columns"
      ],
      "metadata": {
        "id": "1tuHa-y40WW9"
      }
    },
    {
      "cell_type": "code",
      "source": [
        "# Drop the 'Name' column\n"
      ],
      "metadata": {
        "id": "cEujLx6i0YjG"
      },
      "execution_count": 2,
      "outputs": []
    },
    {
      "cell_type": "markdown",
      "source": [
        "## Task 14: Identify Duplicate Rows (if any)"
      ],
      "metadata": {
        "id": "w2tyjjT00dvN"
      }
    },
    {
      "cell_type": "code",
      "source": [],
      "metadata": {
        "id": "UslI5akF0Zt_"
      },
      "execution_count": null,
      "outputs": []
    },
    {
      "cell_type": "markdown",
      "source": [
        "## Task 15: Save the Modified DataFrame to a New File"
      ],
      "metadata": {
        "id": "PXl3EV9I0fVe"
      }
    },
    {
      "cell_type": "code",
      "source": [],
      "metadata": {
        "id": "wetWJcsk0hZv"
      },
      "execution_count": null,
      "outputs": []
    }
  ]
}